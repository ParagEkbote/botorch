{
 "cells": [
  {
   "cell_type": "markdown",
   "id": "c3622ab5",
   "metadata": {},
   "source": [
    "Use Optuna with BoTorch as the sampler to optimize the hyperparameters of a classifier (e.g., Random Forest, SVM, or a PyTorch neural network) trained on the Iris dataset."
   ]
  },
  {
   "cell_type": "code",
   "execution_count": null,
   "id": "a292f452",
   "metadata": {
    "vscode": {
     "languageId": "plaintext"
    }
   },
   "outputs": [],
   "source": []
  }
 ],
 "metadata": {
  "language_info": {
   "name": "python"
  }
 },
 "nbformat": 4,
 "nbformat_minor": 5
}
